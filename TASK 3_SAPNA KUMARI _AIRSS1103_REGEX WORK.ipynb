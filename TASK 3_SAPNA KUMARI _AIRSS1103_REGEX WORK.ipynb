{
 "cells": [
  {
   "cell_type": "markdown",
   "id": "9ca85688",
   "metadata": {},
   "source": [
    "# Assignment 3\n",
    "# Referral Id-AIRSS1103\n",
    "# Name-SAPNA KUMARI\n",
    "# College-HMR INSTITUTE OF TECHNOLOGY and MANAGEMENT"
   ]
  },
  {
   "cell_type": "markdown",
   "id": "9646696e",
   "metadata": {},
   "source": [
    "### Q1. Write a function to return nth term of Fibonacci sequence."
   ]
  },
  {
   "cell_type": "code",
   "execution_count": 4,
   "id": "893b081c",
   "metadata": {},
   "outputs": [
    {
     "name": "stdout",
     "output_type": "stream",
     "text": [
      "Enter a number:32\n",
      "32th term of Fibonacci series is 2178309\n"
     ]
    }
   ],
   "source": [
    "k=int(input(\"Enter a number:\"))\n",
    "def fibo(n):\n",
    "  if n==1:\n",
    "    return 1\n",
    "  elif n==0:\n",
    "    return 0\n",
    "  else:\n",
    "    return fibo(n-1)+fibo(n-2)\n",
    "\n",
    "result=fibo(k)\n",
    "print(\"{0}th term of Fibonacci series is {1}\".format(k,result))"
   ]
  },
  {
   "cell_type": "markdown",
   "id": "65d4fe4d",
   "metadata": {},
   "source": [
    "### Q2. Write a function to find out GCD of two numbers using EUCLID'S algorithm."
   ]
  },
  {
   "cell_type": "code",
   "execution_count": 5,
   "id": "ecfeec74",
   "metadata": {},
   "outputs": [
    {
     "name": "stdout",
     "output_type": "stream",
     "text": [
      "Enter first number:12\n",
      "Enter second number:14\n",
      "GCD of 12 and 14 is 2\n"
     ]
    }
   ],
   "source": [
    "n1=int(input(\"Enter first number:\"))\n",
    "n2=int(input(\"Enter second number:\"))\n",
    "min1=min(n1,n2)\n",
    "res=1\n",
    "for i in range(2,min1+1):\n",
    "  if ((n1%i==0) and (n2%i==0)):\n",
    "    res=i\n",
    "\n",
    "print(\"GCD of {0} and {1} is {2}\".format(n1,n2,res))"
   ]
  },
  {
   "cell_type": "markdown",
   "id": "3420b723",
   "metadata": {},
   "source": [
    "### Q3. Write a function to find LCM of two number in most optimizers way."
   ]
  },
  {
   "cell_type": "code",
   "execution_count": 6,
   "id": "3c29b508",
   "metadata": {},
   "outputs": [
    {
     "name": "stdout",
     "output_type": "stream",
     "text": [
      "Enter first number:16\n",
      "Enter second number:18\n",
      "LCM of 16 and 18 is 144\n"
     ]
    }
   ],
   "source": [
    "n1=int(input(\"Enter first number:\"))\n",
    "n2=int(input(\"Enter second number:\"))\n",
    "j=max(n1,n2)\n",
    "while(True):\n",
    "  if (j%n1==0) and (j%n2==0):\n",
    "    result=j\n",
    "    break\n",
    "  else:\n",
    "    j=j+1\n",
    "\n",
    "print(\"LCM of {0} and {1} is {2}\".format(n1,n2,result))"
   ]
  },
  {
   "cell_type": "code",
   "execution_count": null,
   "id": "0f8d1b51",
   "metadata": {},
   "outputs": [],
   "source": []
  }
 ],
 "metadata": {
  "kernelspec": {
   "display_name": "Python 3",
   "language": "python",
   "name": "python3"
  },
  "language_info": {
   "codemirror_mode": {
    "name": "ipython",
    "version": 3
   },
   "file_extension": ".py",
   "mimetype": "text/x-python",
   "name": "python",
   "nbconvert_exporter": "python",
   "pygments_lexer": "ipython3",
   "version": "3.8.8"
  }
 },
 "nbformat": 4,
 "nbformat_minor": 5
}
